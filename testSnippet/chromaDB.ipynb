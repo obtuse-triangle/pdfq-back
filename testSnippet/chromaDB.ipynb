{
 "cells": [
  {
   "cell_type": "code",
   "execution_count": null,
   "id": "9c32a795",
   "metadata": {},
   "outputs": [],
   "source": [
    "import chromadb\n",
    "chroma_client = chromadb.Client()"
   ]
  },
  {
   "cell_type": "code",
   "execution_count": 3,
   "id": "b77729c8",
   "metadata": {},
   "outputs": [
    {
     "name": "stderr",
     "output_type": "stream",
     "text": [
      "/Users/obt/Library/Caches/pypoetry/virtualenvs/pdfq-back-CzKW63L7-py3.12/lib/python3.12/site-packages/tqdm/auto.py:21: TqdmWarning: IProgress not found. Please update jupyter and ipywidgets. See https://ipywidgets.readthedocs.io/en/stable/user_install.html\n",
      "  from .autonotebook import tqdm as notebook_tqdm\n"
     ]
    }
   ],
   "source": [
    "from chromadb.utils import embedding_functions\n",
    "default_ef = embedding_functions.DefaultEmbeddingFunction()\n",
    "sentence_transformer_ef = embedding_functions.SentenceTransformerEmbeddingFunction(\n",
    "    model_name=\"intfloat/multilingual-e5-large\"\n",
    ")\n",
    "\n",
    "collection = chroma_client.create_collection(\n",
    "    name=\"my_collection\", embedding_function=sentence_transformer_ef)"
   ]
  },
  {
   "cell_type": "code",
   "execution_count": 4,
   "id": "29c49d67",
   "metadata": {},
   "outputs": [],
   "source": [
    "collection.add(\n",
    "    documents=[\n",
    "        \"This is a document about pineapple\",\n",
    "        \"This is a document about oranges\"\n",
    "    ],\n",
    "    ids=[\"id1\", \"id2\"]\n",
    ")"
   ]
  },
  {
   "cell_type": "code",
   "execution_count": 5,
   "id": "d664b4bb",
   "metadata": {},
   "outputs": [
    {
     "name": "stdout",
     "output_type": "stream",
     "text": [
      "{'ids': [['id1', 'id2']], 'embeddings': None, 'documents': [['This is a document about pineapple', 'This is a document about oranges']], 'uris': None, 'included': ['metadatas', 'documents', 'distances'], 'data': None, 'metadatas': [[None, None]], 'distances': [[0.21290701627731323, 0.23858365416526794]]}\n"
     ]
    }
   ],
   "source": [
    "results = collection.query(\n",
    "    # Chroma will embed this for you\n",
    "    query_texts=[\"This is a query document about hawaii\"],\n",
    "    n_results=2  # how many results to return\n",
    ")\n",
    "print(results)"
   ]
  },
  {
   "cell_type": "code",
   "execution_count": 3,
   "id": "e3958cf3",
   "metadata": {},
   "outputs": [],
   "source": [
    "import chromadb\n",
    "from chromadb.config import Settings\n",
    "from chromadb.utils import embedding_functions"
   ]
  },
  {
   "cell_type": "code",
   "execution_count": 4,
   "id": "ff5ea841",
   "metadata": {},
   "outputs": [
    {
     "name": "stderr",
     "output_type": "stream",
     "text": [
      "/Users/obt/Library/Caches/pypoetry/virtualenvs/pdfq-back-CzKW63L7-py3.12/lib/python3.12/site-packages/tqdm/auto.py:21: TqdmWarning: IProgress not found. Please update jupyter and ipywidgets. See https://ipywidgets.readthedocs.io/en/stable/user_install.html\n",
      "  from .autonotebook import tqdm as notebook_tqdm\n"
     ]
    }
   ],
   "source": [
    "chromadb_client = chromadb.PersistentClient(settings=Settings(\n",
    "    anonymized_telemetry=False,\n",
    "), path=\"../src/chroma\")\n",
    "# chromadb_client = chromadb.Client()\n",
    "default_ef = embedding_functions.DefaultEmbeddingFunction()\n",
    "sentence_transformer_ef = embedding_functions.SentenceTransformerEmbeddingFunction(\n",
    "    model_name=\"intfloat/multilingual-e5-large\"\n",
    ")"
   ]
  },
  {
   "cell_type": "code",
   "execution_count": 6,
   "id": "608e4726",
   "metadata": {},
   "outputs": [
    {
     "data": {
      "text/plain": [
       "{'ids': ['0', '1', '2', '3', '4', '5', '6', '7', '8', '9'],\n",
       " 'embeddings': array([[ 0.030371  ,  0.0103603 , -0.03741118, ..., -0.00908382,\n",
       "          0.01116255,  0.00403027],\n",
       "        [ 0.04995285, -0.00994806, -0.03149027, ..., -0.02664178,\n",
       "          0.00863963,  0.00288905],\n",
       "        [ 0.04326436, -0.00830721, -0.02436889, ..., -0.02928647,\n",
       "         -0.01362916,  0.00712444],\n",
       "        ...,\n",
       "        [ 0.03750357,  0.00836055, -0.00430438, ..., -0.03710927,\n",
       "         -0.01615158,  0.0330948 ],\n",
       "        [ 0.03431471,  0.00029092, -0.02609896, ..., -0.01885392,\n",
       "          0.00531832,  0.02155535],\n",
       "        [ 0.03273088,  0.00335132, -0.04454149, ..., -0.01727473,\n",
       "         -0.00026337, -0.01114473]], shape=(10, 1024)),\n",
       " 'documents': ['# 운영체제 개요\\n',\n",
       "  '## 1. 운영체제\\n1. 컴퓨터 자원을 효율적으로 관리하고 운영하는 시스템 소프트웨어\\n2. 사용자가 편리하게 컴퓨터를 활용할 수 있는 환경을 제공\\n3. 목표 : 범용성, 확장성, 적응성, 처리 능력 향상, 응답 시간 단축, 사용의 용이성, 가동성 향상',\n",
       "  '### 1.1. 운영체제의 주요 목적\\n- **사용의 용이성**\\n    - 하드웨어와 정보를 효율적으로 관리하여 컴퓨터를 편리하게 사용할 수 있도록 지원\\n- **시스템 성능 향상**\\n    - **처리 능력 (throughput)**: 일정 시간 동안 컴퓨터가 처리하는 작업량\\n    - **응답 시간 (turnaround time)**: 사용자가 요청한 작업이 완료되기까지의 시간\\n    - **사용의 용이성 (availability)**: 시스템 자원의 신속한 제공 여부\\n    - **신뢰도 (reliability)**: 시스템의 정확한 동작 정도',\n",
       "  '### 1.2. 운영체제의 기능\\n**자원 관리**와 **시스템 관리**로 구분\\n\\n- **자원 관리(중요)**: **메모리 관리, 프로세스 관리, 주변 장치 관리, 파일(데이터) 관리**\\n- **시스템 관리**: 시스템 보호(사용자 권한 관리), 네트워킹(통신), 명령 인터프리터 제공',\n",
       "  '### 1.3. 운영체제의 기능 분류\\n- 감시 프로그램 : 작업 관리, 자원 할당과 회수 등 시스템 전반을 감독하고 제어함\\n- 작업 제어 프로그램 : 작업의 순서를 정하고 작업 흐름을 통제함\\n- 데이터 관리 프로그램 : 파일, 데이터의 표준적 관리 및 처리를 담당함\\n\\n- 참고 : 운영체제의 역할인 것, 역할이 아닌 것\\n- 역할인 것\\n    - 사용자 인터페이스 제공\\n    - 주변 장치 관리\\n    - 자원 분배와 효율적 관리\\n    - 신뢰성 향상 및 오류 처리\\n- 역할이 아닌 것\\n    - 원시 프로그램을 기계어로 번역하는 기능 (컴파일러의 역할)\\n    - 목적 프로그램의 생성 및 연결(링커의 역할)\\n    - 데이터 압축 및 복원(유틸리티 프로그램 역할)',\n",
       "  '### 1.4. 운영체제의 구성 요소와 역할\\n- 커널, 시스템 호출(system call)',\n",
       "  '## 2. 운영체제 연산 (커널과 시스템 호출)\\n인터럽트 기반(interrupt driven) 동작 (인터럽트가 발생할 때만 작업을 수행)',\n",
       "  '### 2.1. 트랩과 시스템 호출\\n- **트랩(trap)**: 오류 발생 시 또는 운영체제 서비스 요청 시 발생하는 소프트웨어 인터럽트\\n- **시스템 호출(system call)**: 사용자 프로그램이 운영체제 권한이 필요한 작업을 요청하는 방법\\n    - 트랩을 통해 실행되거나 시스템 호출 명령을 통해 수행됨\\n    - 운영체제는 모드 비트를 이용하여 **사용자 모드(1)**와 **커널 모드(0)**를 구분',\n",
       "  '### 2.2. 사용자 모드와 커널 모드\\n운영체제는 **사용자 모드(User Mode)**와 **커널 모드(Kernel Mode)** 두 가지 모드를 제공. \\n\\n 운영체제의 보안을 유지하고 시스템의 안정성을 확보하기 위한 중요한 기법\\n\\n- **사용자 모드(User Mode)**\\n    - 일반 응용 프로그램이 실행되는 환경\\n    - 하드웨어 자원에 직접 접근할 수 없음\\n    - 제한된 명령어만 실행 가능하며, 시스템 호출을 통해 운영체제의 서비스 요청 가능\\n- **커널 모드(Kernel Mode)**\\n    - 운영체제의 핵심 기능이 실행되는 환경\\n    - 하드웨어 자원에 직접 접근 가능\\n    - 모든 명령어를 실행할 수 있으며, 프로세스 및 메모리 관리, 장치 제어 등을 수행\\n    \\n\\n중요 : 운영체제는 **일반적으로 시스템이 부팅될 때 커널 모드에서 실행**된다. 이후 **응용 프로그램이 실행되면 사용자 모드로 전환**된다. **특정 작업(예: 입출력, 메모리 할당 등)을 수행할 때는 시스템 호출을 통해 다시 커널 모드로 전환**된다. 이를 통해 시스템의 보안을 강화하고 응용 프로그램이 운영체제의 핵심 기능을 침해하지 않도록 보호할 수 있다.\\n\\n- 참고 : 커널과 쉘\\n\\n \\n\\n- 커널\\n    - 운영체제의 중심부로 하드웨어를 직접 관리하고 제어하는 핵심적 역할을 수행\\n    - 주된 역할:\\n        - 프로세스 관리(생성, 종료, 스케줄링 등)\\n        - 메모리 관리(할당, 회수, 가상 메모리 등)\\n        - 파일 시스템 관리(파일 입출력, 파일 접근 관리 등)\\n        - 입출력 장치 관리 및 하드웨어 자원 관리\\n    - 커널은 운영체제의 가장 내부에서 작동하여 응용 프로그램과 하드웨어 사이의 중재자 역할을 수행\\n- 쉘\\n    - 쉘은 사용자가 운영체제와 상호작용할 수 있도록 제공하는 **사용자 인터페이스(UI)** 프로그램\\n    - 주된 역할:\\n        - 사용자 명령어를 해석하여 운영체제의 커널에 전달함.\\n        - 사용자의 명령을 실행하고 결과를 다시 사용자에게 전달하는 역할을 수행\\n    - 사용자는 직접 커널에 접근할 수 없고, 쉘을 통해 운영체제의 기능을 사용할 수 있음.',\n",
       "  '## 3. 운영체제 구조 (Operating System Structures)\\n'],\n",
       " 'uris': None,\n",
       " 'included': ['metadatas', 'documents', 'embeddings'],\n",
       " 'data': None,\n",
       " 'metadatas': [{'title': '# 운영체제 개요', 'filename': 'asd'},\n",
       "  {'title': '## 1. 운영체제', 'filename': 'asd'},\n",
       "  {'filename': 'asd', 'title': '### 1.1. 운영체제의 주요 목적'},\n",
       "  {'title': '### 1.2. 운영체제의 기능', 'filename': 'asd'},\n",
       "  {'title': '### 1.3. 운영체제의 기능 분류', 'filename': 'asd'},\n",
       "  {'title': '### 1.4. 운영체제의 구성 요소와 역할', 'filename': 'asd'},\n",
       "  {'filename': 'asd', 'title': '## 2. 운영체제 연산 (커널과 시스템 호출)'},\n",
       "  {'title': '### 2.1. 트랩과 시스템 호출', 'filename': 'asd'},\n",
       "  {'title': '### 2.2. 사용자 모드와 커널 모드', 'filename': 'asd'},\n",
       "  {'title': '## 3. 운영체제 구조 (Operating System Structures)', 'filename': 'asd'}]}"
      ]
     },
     "execution_count": 6,
     "metadata": {},
     "output_type": "execute_result"
    }
   ],
   "source": [
    "collection = chromadb_client.get_collection(\n",
    "    name=\"pdfq\", embedding_function=sentence_transformer_ef)\n",
    "collection.peek()"
   ]
  },
  {
   "cell_type": "code",
   "execution_count": null,
   "id": "83b2549e",
   "metadata": {},
   "outputs": [],
   "source": []
  }
 ],
 "metadata": {
  "kernelspec": {
   "display_name": "pdfq-back-CzKW63L7-py3.12",
   "language": "python",
   "name": "python3"
  },
  "language_info": {
   "codemirror_mode": {
    "name": "ipython",
    "version": 3
   },
   "file_extension": ".py",
   "mimetype": "text/x-python",
   "name": "python",
   "nbconvert_exporter": "python",
   "pygments_lexer": "ipython3",
   "version": "3.12.9"
  }
 },
 "nbformat": 4,
 "nbformat_minor": 5
}
