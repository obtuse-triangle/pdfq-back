{
 "cells": [
  {
   "cell_type": "code",
   "execution_count": 5,
   "id": "9653fdc0",
   "metadata": {},
   "outputs": [
    {
     "name": "stderr",
     "output_type": "stream",
     "text": [
      "/Users/obt/Library/Caches/pypoetry/virtualenvs/pdfq-back-CzKW63L7-py3.12/lib/python3.12/site-packages/tqdm/auto.py:21: TqdmWarning: IProgress not found. Please update jupyter and ipywidgets. See https://ipywidgets.readthedocs.io/en/stable/user_install.html\n",
      "  from .autonotebook import tqdm as notebook_tqdm\n"
     ]
    }
   ],
   "source": [
    "# PDF 파일을 \\n\\n 단위로 우선 분할, 길이 초과시 토큰 단위로 300토큰씩 30토큰 오버랩 분할\n",
    "import pymupdf\n",
    "from transformers import AutoTokenizer\n",
    "\n",
    "tokenizer = AutoTokenizer.from_pretrained(\"intfloat/multilingual-e5-large\")\n",
    "ISPDF = False\n",
    "\n",
    "\n",
    "def split_by_paragraph(text):\n",
    "  return [p.strip() for p in text.split(\"\\n\\n\") if p.strip()]\n",
    "\n",
    "\n",
    "def chunk_tokens(tokens, chunk_size=300, overlap=30, title=None):\n",
    "  chunks = []\n",
    "  start = 0\n",
    "  while start < len(tokens):\n",
    "    end = min(start + chunk_size, len(tokens))\n",
    "    chunk_tokens = tokens[start:end]\n",
    "    chunk_text = tokenizer.decode(chunk_tokens)\n",
    "    if title:\n",
    "      chunk_text = f\"{title}\\n{chunk_text}\"\n",
    "    chunks.append(chunk_text)\n",
    "    if end == len(tokens):\n",
    "      break\n",
    "    start += chunk_size - overlap\n",
    "  return chunks\n",
    "\n",
    "\n",
    "def smart_chunk_text(paragraphs, chunk_size=300, overlap=30):\n",
    "  result_chunks = []\n",
    "  for para in paragraphs:\n",
    "    tokens = tokenizer.encode(para, add_special_tokens=False)\n",
    "    if len(tokens) <= chunk_size:\n",
    "      result_chunks.append(para)\n",
    "    else:\n",
    "      title = None\n",
    "      if para.startswith(\"#\"):\n",
    "        title = para.split(\"\\n\")[0]\n",
    "      result_chunks.extend(chunk_tokens(tokens, chunk_size, overlap, title))\n",
    "  return result_chunks"
   ]
  },
  {
   "cell_type": "markdown",
   "id": "bc5190b5",
   "metadata": {},
   "source": [
    "## PDF\n"
   ]
  },
  {
   "cell_type": "code",
   "execution_count": null,
   "id": "f8191520",
   "metadata": {},
   "outputs": [
    {
     "name": "stderr",
     "output_type": "stream",
     "text": [
      "Token indices sequence length is longer than the specified maximum sequence length for this model (9224 > 512). Running this sequence through the model will result in indexing errors\n"
     ]
    },
    {
     "name": "stdout",
     "output_type": "stream",
     "text": [
      "총 청크 개수: 35\n",
      "1주차 1열 운영체제 개요 2열 3/13 Status 완료 문제집 (중간고사 대비) 4장_CPU 스케줄링.pdf 3장_프로세스와 스레드.pdf 1장_운영체제의 개요.pdf 평가 관련 안내 1학기 : 중간고사(40%) + 노션 정리(30%) + 논술(30%) 2학기 : 미정 1~2주차 : 가볍게 읽고, 내용 이해하기 단, 커널의 모드와 종류(모놀로틱, 마이크로)에 대해서는 정리하기 운영체제 개요 1주차 1 1. 운영체제 1. 컴퓨터 자원을 효율적으로 관리하고 운영하는 시스템 소프트웨어 2. 사용자가 편리하게 컴퓨터를 활용할 수 있는 환경을 제공 3. 목표 : 범용성, 확장성, 적응성, 처리 능력 향상, 응답 시간 단축, 사용의 용이성, 가동성 향 상 1.1. 운영체제의 주요 목적 사용의 용이성 하드웨어와 정보를 효율적으로 관리하여 컴퓨터를 편리하게 사용할 수 있도록 지원 시스템 성능 향상 처리 능력 (throughput): 일정 시간 동안 컴퓨터가 처리하는 작업량 응답 시간 (turnaround time): 사용자가 요청한 작업이 완료되기까지의 시간 사용의 용이성 (availability): 시스템 자원의 신속한 제공 여부 신뢰도 (reliability): 시스템의 정확한 동작 정도 1.2. 운영체제의 기능 자원 관리와 시스템 관리로 구분 \n"
     ]
    }
   ],
   "source": [
    "text = \"\"\n",
    "# PDF 파일에서 텍스트 추출\n",
    "result = pymupdf.open(\"example.pdf\")\n",
    "for page in result:\n",
    "  text += page.get_text()\n",
    "chunked_subjects = smart_chunk_text(\n",
    "  split_by_paragraph(text), chunk_size=300, overlap=30)\n",
    "print(f\"총 청크 개수: {len(chunked_subjects)}\")\n",
    "print(chunked_subjects[0])  # 첫 청크 일부 출력"
   ]
  },
  {
   "cell_type": "markdown",
   "id": "1fcb7e08",
   "metadata": {},
   "source": [
    "## MarkDown\n"
   ]
  },
  {
   "cell_type": "code",
   "execution_count": 1,
   "id": "dc2b0e1c",
   "metadata": {},
   "outputs": [
    {
     "name": "stdout",
     "output_type": "stream",
     "text": [
      "총 단원 개수: 51\n",
      "['# 운영체제 개요\\n', '## 1. 운영체제\\n1. 컴퓨터 자원을 효율적으로 관리하고 운영하는 시스템 소프트웨어\\n2. 사용자가 편리하게 컴퓨터를 활용할 수 있는 환경을 제공\\n3. 목표 : 범용성, 확장성, 적응성, 처리 능력 향상, 응답 시간 단축, 사용의 용이성, 가동성 향상', '### 1.1. 운영체제의 주요 목적\\n- **사용의 용이성**\\n    - 하드웨어와 정보를 효율적으로 관리하여 컴퓨터를 편리하게 사용할 수 있도록 지원\\n- **시스템 성능 향상**\\n    - **처리 능력 (throughput)**: 일정 시간 동안 컴퓨터가 처리하는 작업량\\n    - **응답 시간 (turnaround time)**: 사용자가 요청한 작업이 완료되기까지의 시간\\n    - **사용의 용이성 (availability)**: 시스템 자원의 신속한 제공 여부\\n    - **신뢰도 (reliability)**: 시스템의 정확한 동작 정도', '### 1.2. 운영체제의 기능\\n**자원 관리**와 **시스템 관리**로 구분\\n\\n- **자원 관리(중요)**: **메모리 관리, 프로세스 관리, 주변 장치 관리, 파일(데이터) 관리**\\n- **시스템 관리**: 시스템 보호(사용자 권한 관리), 네트워킹(통신), 명령 인터프리터 제공', '### 1.3. 운영체제의 기능 분류\\n- 감시 프로그램 : 작업 관리, 자원 할당과 회수 등 시스템 전반을 감독하고 제어함\\n- 작업 제어 프로그램 : 작업의 순서를 정하고 작업 흐름을 통제함\\n- 데이터 관리 프로그램 : 파일, 데이터의 표준적 관리 및 처리를 담당함\\n\\n- 참고 : 운영체제의 역할인 것, 역할이 아닌 것\\n- 역할인 것\\n    - 사용자 인터페이스 제공\\n    - 주변 장치 관리\\n    - 자원 분배와 효율적 관리\\n    - 신뢰성 향상 및 오류 처리\\n- 역할이 아닌 것\\n    - 원시 프로그램을 기계어로 번역하는 기능 (컴파일러의 역할)\\n    - 목적 프로그램의 생성 및 연결(링커의 역할)\\n    - 데이터 압축 및 복원(유틸리티 프로그램 역할)']\n"
     ]
    }
   ],
   "source": [
    "import re\n",
    "\n",
    "text = \"\"\n",
    "with open(\"example.md\", \"r\", encoding=\"utf-8\") as f:\n",
    "  text = f.read()\n",
    "\n",
    "# Split by markdown headings, keeping the heading marker\n",
    "pattern = r'(^#+ .*)'\n",
    "splits = re.split(pattern, text, flags=re.MULTILINE)\n",
    "subjects = []\n",
    "\n",
    "# Reconstruct sections: heading + content\n",
    "for i in range(1, len(splits), 2):\n",
    "  heading = splits[i].strip()\n",
    "  content = splits[i + 1].strip() if i + 1 < len(splits) else \"\"\n",
    "  subjects.append(f\"{heading}\\n{content}\")\n",
    "\n",
    "print(f\"총 단원 개수: {len(subjects)}\")\n",
    "print(subjects[0:5])"
   ]
  },
  {
   "cell_type": "code",
   "execution_count": 2,
   "id": "e0a62d66",
   "metadata": {},
   "outputs": [],
   "source": [
    "import requests\n",
    "import dotenv\n",
    "import os\n",
    "\n",
    "dotenv.load_dotenv()\n",
    "DifyChapterToken = os.getenv(\"DifyChapterToken\")\n",
    "\n",
    "titles = []\n",
    "\n",
    "for i in subjects:\n",
    "  if i.startswith(\"#\"):\n",
    "    titles.append(i.split(\"\\n\")[0])\n",
    "res = requests.post(\n",
    "  \"https://dify.obtuse.kr/v1/completion-messages\",\n",
    "  headers={\n",
    "    'Authorization': f'Bearer {DifyChapterToken}',\n",
    "    'Content-Type': 'application/json'\n",
    "  },\n",
    "  json={\n",
    "    \"inputs\": {\n",
    "      \"query\": \"\\n\".join(titles),\n",
    "    },\n",
    "    \"response_mode\": \"blocking\",\n",
    "    \"user\": \"asdf-1234\"\n",
    "  }\n",
    ")"
   ]
  },
  {
   "cell_type": "code",
   "execution_count": 3,
   "id": "6416f979",
   "metadata": {},
   "outputs": [
    {
     "data": {
      "text/plain": [
       "{'event': 'message',\n",
       " 'task_id': '27f99c46-dff7-4cb7-9ab8-b91212e3052c',\n",
       " 'id': 'd6b1a902-6f0d-40a8-bdff-8687cd5e072c',\n",
       " 'message_id': 'd6b1a902-6f0d-40a8-bdff-8687cd5e072c',\n",
       " 'mode': 'completion',\n",
       " 'answer': '{\"chapters\": [{\"title\": \"운영체제 개요\", \"sections\": [\"운영체제의 주요 목적\", \"운영체제의 기능\", \"운영체제의 기능 분류\", \"운영체제의 구성 요소와 역할\", \"운영체제 연산 (커널과 시스템 호출)\", \"트랩과 시스템 호출\", \"사용자 모드와 커널 모드\", \"운영체제 구조\", \"운영체제의 발달 과정\"]}, {\"title\": \"프로세스 관리\", \"sections\": [\"프로세스 개요\", \"프로그램과 프로세스의 차이\", \"프로세스의 메모리 구조(정적 영역, 동적 영역)\", \"프로세스 제어 블록(PCB)의 주요 정보\", \"PCB의 역할\", \"프로세스 상태와 상태 전이\", \"프로세스 상태\", \"프로세스 상태 전이\", \"프로세스와 스레드 비교\", \"프로세스(Process)\", \"스레드(Thread)\", \"싱글 스레드와 멀티 스레드\", \"싱글 스레드 (Single Thread)\", \"멀티 스레드 (Multi Thread)\"]}, {\"title\": \"스케줄링\", \"sections\": [\"스케줄링 개요\", \"스케줄링의 종류(기능별 분류)\", \"스케줄링의 종류(방법별 분류)\", \"CPU 스케줄링 알고리즘\", \"선입선출 스케줄링 (FCFS)\", \"최단 작업 우선 스케줄링 (SJF)\", \"최단 잔여 시간 우선 스케줄링 (SRT)\", \"HRN 스케줄링 (Highest Response Ratio Next)\", \"우선순위 스케줄링 (Priority Scheduling)\", \"라운드로빈 스케줄링 (Round-Robin, RR)\", \"다단계 큐 스케줄링 (Multi-Level Queue, MLQ)\", \"다단계 피드백 큐 스케줄링 (Multi-Level Feedback Queue, MFQ)\", \"기아(Starvation)와 에이징(Aging)\"]}, {\"title\": \"프로세스 동기화\", \"sections\": [\"병행 프로세스\", \"임계영역 문제\", \"2개 프로세스 간 상호 배제\", \"N개 프로세스 간 상호 배제\"]}]}',\n",
       " 'metadata': {'usage': {'prompt_tokens': 1122,\n",
       "   'prompt_unit_price': '0',\n",
       "   'prompt_price_unit': '0.000001',\n",
       "   'prompt_price': '0',\n",
       "   'completion_tokens': 545,\n",
       "   'completion_unit_price': '0',\n",
       "   'completion_price_unit': '0.000001',\n",
       "   'completion_price': '0',\n",
       "   'total_tokens': 1667,\n",
       "   'total_price': '0',\n",
       "   'currency': 'USD',\n",
       "   'latency': 4.491734149865806}},\n",
       " 'created_at': 1748293976}"
      ]
     },
     "execution_count": 3,
     "metadata": {},
     "output_type": "execute_result"
    }
   ],
   "source": [
    "res.json()"
   ]
  },
  {
   "cell_type": "code",
   "execution_count": 6,
   "id": "3b2c8e21",
   "metadata": {},
   "outputs": [
    {
     "name": "stderr",
     "output_type": "stream",
     "text": [
      "Token indices sequence length is longer than the specified maximum sequence length for this model (897 > 512). Running this sequence through the model will result in indexing errors\n"
     ]
    },
    {
     "data": {
      "text/plain": [
       "['# 운영체제 개요\\n',\n",
       " '## 1. 운영체제\\n1. 컴퓨터 자원을 효율적으로 관리하고 운영하는 시스템 소프트웨어\\n2. 사용자가 편리하게 컴퓨터를 활용할 수 있는 환경을 제공\\n3. 목표 : 범용성, 확장성, 적응성, 처리 능력 향상, 응답 시간 단축, 사용의 용이성, 가동성 향상',\n",
       " '### 1.1. 운영체제의 주요 목적\\n- **사용의 용이성**\\n    - 하드웨어와 정보를 효율적으로 관리하여 컴퓨터를 편리하게 사용할 수 있도록 지원\\n- **시스템 성능 향상**\\n    - **처리 능력 (throughput)**: 일정 시간 동안 컴퓨터가 처리하는 작업량\\n    - **응답 시간 (turnaround time)**: 사용자가 요청한 작업이 완료되기까지의 시간\\n    - **사용의 용이성 (availability)**: 시스템 자원의 신속한 제공 여부\\n    - **신뢰도 (reliability)**: 시스템의 정확한 동작 정도',\n",
       " '### 1.2. 운영체제의 기능\\n**자원 관리**와 **시스템 관리**로 구분\\n\\n- **자원 관리(중요)**: **메모리 관리, 프로세스 관리, 주변 장치 관리, 파일(데이터) 관리**\\n- **시스템 관리**: 시스템 보호(사용자 권한 관리), 네트워킹(통신), 명령 인터프리터 제공',\n",
       " '### 1.3. 운영체제의 기능 분류\\n- 감시 프로그램 : 작업 관리, 자원 할당과 회수 등 시스템 전반을 감독하고 제어함\\n- 작업 제어 프로그램 : 작업의 순서를 정하고 작업 흐름을 통제함\\n- 데이터 관리 프로그램 : 파일, 데이터의 표준적 관리 및 처리를 담당함\\n\\n- 참고 : 운영체제의 역할인 것, 역할이 아닌 것\\n- 역할인 것\\n    - 사용자 인터페이스 제공\\n    - 주변 장치 관리\\n    - 자원 분배와 효율적 관리\\n    - 신뢰성 향상 및 오류 처리\\n- 역할이 아닌 것\\n    - 원시 프로그램을 기계어로 번역하는 기능 (컴파일러의 역할)\\n    - 목적 프로그램의 생성 및 연결(링커의 역할)\\n    - 데이터 압축 및 복원(유틸리티 프로그램 역할)',\n",
       " '### 1.4. 운영체제의 구성 요소와 역할\\n- 커널, 시스템 호출(system call)',\n",
       " '## 2. 운영체제 연산 (커널과 시스템 호출)\\n인터럽트 기반(interrupt driven) 동작 (인터럽트가 발생할 때만 작업을 수행)',\n",
       " '### 2.1. 트랩과 시스템 호출\\n- **트랩(trap)**: 오류 발생 시 또는 운영체제 서비스 요청 시 발생하는 소프트웨어 인터럽트\\n- **시스템 호출(system call)**: 사용자 프로그램이 운영체제 권한이 필요한 작업을 요청하는 방법\\n    - 트랩을 통해 실행되거나 시스템 호출 명령을 통해 수행됨\\n    - 운영체제는 모드 비트를 이용하여 **사용자 모드(1)**와 **커널 모드(0)**를 구분',\n",
       " '### 2.2. 사용자 모드와 커널 모드\\n### 2.2. 사용자 모드와 커널 모드 운영체제는 **사용자 모드(User Mode)**와 **커널 모드(Kernel Mode)** 두 가지 모드를 제공. 운영체제의 보안을 유지하고 시스템의 안정성을 확보하기 위한 중요한 기법 - **사용자 모드(User Mode)** - 일반 응용 프로그램이 실행되는 환경 - 하드웨어 자원에 직접 접근할 수 없음 - 제한된 명령어만 실행 가능하며, 시스템 호출을 통해 운영체제의 서비스 요청 가능 - **커널 모드(Kernel Mode)** - 운영체제의 핵심 기능이 실행되는 환경 - 하드웨어 자원에 직접 접근 가능 - 모든 명령어를 실행할 수 있으며, 프로세스 및 메모리 관리, 장치 제어 등을 수행 중요 : 운영체제는 **일반적으로 시스템이 부팅될 때 커널 모드에서 실행**된다. 이후 **응용 프로그램이 실행되면 사용자 모드로 전환**된다. **특정 작업(예: 입출력, 메모리 할당 등)을 수행할 때는 시스템 호출을 통해 다시 커널 모드로 전환**된다. 이를 통해 시스템의 보안을 강화하고 응용 프로그램이 운영체제의 핵심 기능을 침해하지 않도록 보호할 수 있다. - 참고 : 커널과 쉘 - 커널 - 운영체제의 중심부로 하드웨어를 직접 관리하고 제어하는 핵심적 역할을',\n",
       " '### 2.2. 사용자 모드와 커널 모드\\n- 참고 : 커널과 쉘 - 커널 - 운영체제의 중심부로 하드웨어를 직접 관리하고 제어하는 핵심적 역할을 수행 - 주된 역할: - 프로세스 관리(생성, 종료, 스케줄링 등) - 메모리 관리(할당, 회수, 가상 메모리 등) - 파일 시스템 관리(파일 입출력, 파일 접근 관리 등) - 입출력 장치 관리 및 하드웨어 자원 관리 - 커널은 운영체제의 가장 내부에서 작동하여 응용 프로그램과 하드웨어 사이의 중재자 역할을 수행 - 쉘 - 쉘은 사용자가 운영체제와 상호작용할 수 있도록 제공하는 **사용자 인터페이스(UI)** 프로그램 - 주된 역할: - 사용자 명령어를 해석하여 운영체제의 커널에 전달함. - 사용자의 명령을 실행하고 결과를 다시 사용자에게 전달하는 역할을 수행 - 사용자는 직접 커널에 접근할 수 없고, 쉘을 통해 운영체제의 기능을 사용할 수 있음.',\n",
       " '## 3. 운영체제 구조 (Operating System Structures)\\n',\n",
       " '### 3.1. 운영체제의 구조\\n1. **간단한 구조 (Simple Structure)**\\n    - 초기 시스템에서 사용\\n    - MS-DOS, 초기 UNIX와 같은 운영체제에서 계층이 잘 구분되지 않음\\n    \\n2. **계층적 접근 (Layered Approach)**\\n    - 운영체제를 계층별로 나누어 모듈화\\n    - 모듈화된 운영체제는 디버깅이 용이하고 유지보수가 쉬움\\n    - 예: THE 운영체제, OS/2\\n    \\n3. **마이크로커널 (Microkernel)**\\n    - 운영체제의 핵심 기능을 최소화하고, 나머지는 사용자 공간에서 수행\\n    - 장점: 확장 용이, 이식성 증가, 보안성 및 신뢰성 향상\\n    - 예: Mach 운영체제\\n    \\n4. **모놀리식 커널 (Monolithic Kernel)**\\n    - 운영체제의 모든 핵심 기능이 커널 내부에서 실행됨\\n    - 커널 내에서 모든 서비스(파일 시스템, 메모리 관리, 장치 드라이버 등)가 포함됨\\n    - 장점: 실행 속도가 빠르고, 커널 간 통신 오버헤드가 적음\\n    - 단점: 커널 크기가 커지면 유지보수가 어려워지고, 버그 발생 시 시스템 전체에 영향을 미칠 가능성이 높음\\n    - 예: Linux, UNIX',\n",
       " '## 4. 운영체제의 발달 과정\\n| 운영 방식 | 특징 |\\n| --- | --- |\\n| **일괄처리(배치 시스템)** | 데이터를 모아 한꺼번에 처리.  작업이 순차적으로 진행. CPU 유휴 시간이 많아 비효율적일 수 있음. 예: 급여 계산 |\\n| **다중 프로그래밍 시스템** | 하나의 CPU가 여러 프로그램을 동시에 실행. CPU 활용도를 높일 수 있음 |\\n| **시분할 시스템** | 여러 사용자가 동시에 프로그램을 실행. CPU 시간을 잘게 나누어 사용. 예: 라운드 로빈 방식 |\\n| **다중 처리 시스템** | 여러 개의 CPU가 하나의 작업을 병렬로 처리. CPU 간 부하 분산이 중요 |\\n| **실시간 처리 시스템** | 즉각적인 데이터 처리 필요. 응답 시간이 짧아야 함. 예: 레이더 추적기, 은행 좌석 예약 시스템 |\\n| **다중 모드 처리 시스템** | 일괄 처리, 시분할, 다중 처리, 실시간 처리 시스템을 조합하여 제공. 유연성이 높음 |\\n| **분산 처리 시스템** | 여러 컴퓨터가 네트워크를 통해 작업을 공유. 독립적으로 동작하면서도 협력하여 전체 성능 향상. 예: 클라우드 컴퓨팅 |',\n",
       " '# 1. 프로세스(Process)\\n',\n",
       " '### 1. 프로세스 개요\\n- 프로세스 개념은 **1960년대 중반 Multics OS**에서 처음 사용되었으며, **IBM OS**에서는 *task*로 명명됨.\\n- **프로세스 정의**: *현재 실행 중이거나 곧 실행 가능한 PCB를 가진 프로그램.*\\n- 프로세스는 **프로세서에 의해 수행되는 프로그램 단위**로, 다음과 같은 특징을 가짐:\\n    - 실행 중인(Executing, Running) 프로그램\\n    - 비동기적(Asynchronous) 활동\\n    - 살아 있는(Live) 프로그램\\n    - 프로세스 제어 블록(PCB)을 가진 프로그램\\n    - 언제든지 실행 가능한(Executable) 프로그램',\n",
       " '### 2. 프로그램과 프로세스의 차이\\n- **프로그램**: 디스크에 저장된 *수동적 실체(passive entity)*.\\n- **프로세스**: **프로그램 카운터(PC, Program Counter), 프로세스 제어 블록(PCB)**를 가지며, 실행 흐름을 제어하는 *능동적 실체(active entity)*.',\n",
       " '### 3. 프로세스의 메모리 구조(중요) : 정적 영역(코드, 데이터), 동적 영역(스택, 힙)\\n![image.png](attachment:5528b0c2-0739-4e6d-8697-0fc41dcfc855:image.png)\\n\\n1. **코드(Code) 영역, 텍스트(Text) 영역**: 실행 가능한 프로그램 코드 영역. CPU가 프로세스 실행 시 해당 영역 내용 참조\\n2. **데이터(Data) 영역**: 전역변수, 정적 변수, 작업 공간(work space), 사용자 버퍼 등. 프로그램이 실행될 때 생성되고, 종료될 때 반환함.\\n3. **힙(Heap) 영역** : 동적 메모리(malloc(), free()) 등에 사용되는 변수를 담는 영역. 크기 변동. \\n4. **스택(Stack) 영역**: 지역변수, 인자 리스트(argument list), 복귀 주소(return address), 스택 프레임 등.\\n\\n---',\n",
       " '## 2. 프로세스 제어 블록(PCB)\\n- *PCB(Process Control Block)**은 운영체제가 프로세스를 관리하기 위한 정보가 담긴 자료구조로, 다음과 같은 내용을 포함함.',\n",
       " '### 2.1. PCB의 주요 정보\\n- **프로세스 상태**: 보류, 실행, 준비, 대기, 정지 등.\\n- **프로세스 ID**: 프로세스의 고유 식별 번호.\\n- **프로그램 카운터(PC)**: 다음 실행할 명령어의 주소.\\n- **레지스터 정보**: 누산기(Accumulator), 인덱스 레지스터, 스택 레지스터 등.\\n- **메모리 관리 정보**: 경계 레지스터(boundary register), 페이지 테이블(page table) 등.\\n- **계정(회계) 정보**: CPU 사용 시간, 계정번호, 작업번호 등.\\n- **입출력 정보**: 입출력 요청 목록, 사용 중인 입출력 장치 및 개방된 파일 목록.',\n",
       " '### 2.2. PCB의 역할\\n- **프로세스 상태 저장**: 실행 중이던 프로세스가 중단될 경우 현재 상태를 저장하고, 이후 재개 시 해당 정보를 활용.\\n- **문맥 교환(Context Switching)**: 운영체제가 프로세스를 전환할 때 PCB의 정보를 이용하여 중단된 프로세스를 복원.\\n\\n---',\n",
       " '## 3. 프로세스 상태와 상태 전이(중요)\\n![image.png](attachment:3d3493db-fbea-489e-80ba-b61a5a463a20:image.png)',\n",
       " '### 3.1. 프로세스 상태\\n1. **생성 상태 (Created State)**\\n    - 사용자가 요청한 작업이 운영체제에 등록되어 PCB가 생성되는 상태.\\n    - 이후 **준비 상태(Ready State)** 또는 **지연 준비 상태(Suspended Ready State)** 로 전이될 수 있음.\\n2. **준비 상태 (Ready State)**\\n    - 프로세서(CPU) 할당을 기다리는 상태.\\n    - 모든 필요한 자원(메모리 등)을 할당 받았지만, 아직 실행되지 않음.\\n3. **실행 상태 (Running State)**\\n    - 프로세스가 CPU를 할당 받아 실행 중인 상태.\\n4. **대기 상태 (Waiting/Blocked State)**\\n    - 특정 자원(입출력 등)이 필요하여 대기 중인 상태.\\n    - 예: 입출력 요청 후 완료되기를 기다리는 경우.\\n5. **지연 준비 상태 (Suspended Ready State)**\\n    - 준비 상태에 있던 프로세스가 메모리 부족으로 인해 디스크로 스왑됨.\\n    - 메모리가 확보되면 다시 준비 상태로 전이됨.\\n6. **지연 대기 상태 (Suspended Waiting State)**\\n    - 대기 상태에서 메모리 부족으로 인해 스왑된 상태.\\n    - 요청한 자원이 할당되면 **지연 준비 상태**로 전이됨.',\n",
       " '### 3.2. 프로세스 상태 전이\\n- **디스패치(dispatch)**: 준비 상태 → 실행 상태\\n    - 준비 상태의 프로세스 중 우선순위가 가장 높은 프로세스가 CPU를 할당 받아 실행 상태로 전환됨.\\n- **할당 시간 초과(time runout)**: 실행 상태 → 준비 상태\\n    - CPU 할당 시간이 종료되면 다시 준비 상태로 돌아감.\\n- **블록(block)**: 실행 상태 → 대기 상태\\n    - 실행 중인 프로세스가 입출력 요청 등으로 인해 CPU를 반환하고 대기 상태로 전환됨.\\n- **웨이크업(wake up)**: 대기 상태 → 준비 상태\\n    - 입출력 등의 요청이 완료되면 다시 준비 상태로 전환됨.\\n\\n---',\n",
       " '# 4. 프로세스와 스레드(매우 중요)\\n',\n",
       " '## **4.1. 프로세스와 스레드 비교**\\n',\n",
       " '### **프로세스(Process)**\\n- 실행 중인 프로그램을 의미하며, 독립적인 메모리 공간을 가짐\\n- 운영체제(OS)에 의해 관리되며, 서로 다른 프로세스 간에는 메모리를 공유하지 않음\\n- 하나 이상의 스레드를 포함할 수 있으며, 각각의 프로세스는 별도의 실행 흐름을 가짐',\n",
       " '### **스레드(Thread)**\\n- 프로세스 내에서 실행되는 최소 실행 단위\\n- 같은 프로세스 내에서 메모리와 자원을 공유하며, 다중 작업을 수행할 수 있음\\n- 하나의 프로세스에 여러 개의 스레드를 두어 병렬 처리를 효율적으로 수행 가능\\n\\n---',\n",
       " '## **4.2. 싱글 스레드와 멀티 스레드**\\n![image.png](attachment:41bc5ecc-9fb0-44b6-a517-ede1cf2de3a0:image.png)',\n",
       " '### **싱글 스레드 (Single Thread)**\\n- 하나의 스레드만을 사용하여 작업을 처리\\n- 순차적으로 실행되므로 하나의 작업이 끝나야 다음 작업을 수행할 수 있음\\n- 구현이 간단하지만, 대기 시간이 길어질 수 있음',\n",
       " '### **멀티 스레드 (Multi Thread)**\\n- 하나의 프로세스 내에서 여러 개의 스레드가 동시에 실행됨\\n- 병렬 처리를 통해 응답성을 향상시키고 CPU 사용률을 최적화할 수 있음\\n- 스레드 간 자원 공유가 가능하지만 동기화 문제 발생 가능\\n\\n---',\n",
       " '## **4.3. 커널 스레드와 사용자 스레드(중간고사 범위 X)**\\n',\n",
       " '### **커널 스레드 (Kernel Thread)**\\n- 운영체제 커널이 직접 관리하는 스레드\\n- 시스템 호출을 통해 커널에서 스레드를 생성하고 관리\\n- 커널에서 직접 스케줄링을 담당하므로 안정성이 높지만, 스레드 간 전환 비용이 발생',\n",
       " '### **사용자 스레드 (User Thread)**\\n- 사용자 공간에서 관리되는 스레드\\n- 커널에 직접적인 개입 없이 사용자 수준에서 생성 및 관리 가능\\n- 속도가 빠르고 효율적이지만, 커널에서 직접 제어하지 않기 때문에 하나의 스레드가 블록되면 전체 프로세스가 영향을 받을 수 있음',\n",
       " '## 1. 스케줄링 개요\\n1. **정의**\\n    - 프로세스에게 CPU와 처리기를 효율적으로 할당하기 위한 운영체제의 정책\\n2. **목표**\\n    - CPU 이용률 및 처리율 **최대화**\\n    - 반환시간, 대기시간, 응답시간 **최소화**\\n3.  **용어**\\n    - **CPU 이용률(CPU Utilization)**: CPU가 바쁘게 동작한 비율\\n    - **처리율(Throughput)**: 단위 시간 내 완료된 프로세스 수\\n    - **반환시간(Turnaround Time)**: 도착부터 종료까지 걸린 시간\\n    - **대기시간(Waiting Time)**: 준비 큐에서 대기한 시간\\n    - **응답시간(Response Time)**: 요청 후 첫 응답까지의 시간\\n\\n---',\n",
       " '## 2. 스케줄링의 종류\\n',\n",
       " '### 2.1. 기능별 분류\\n1. **장기 스케줄링 (Long-Term Scheduling)**\\n    - 어떤 작업을 시스템에 받아들일지 결정 (작업 큐 → 준비 큐)\\n2. **중기 스케줄링 (Medium-Term Scheduling)**\\n    - 메모리 과부하 방지를 위해 일부 프로세스를 임시 중단\\n3. **단기 스케줄링 (Short-Term Scheduling)**\\n    - 어떤 준비 프로세스에게 CPU를 줄지 결정 (실시간)\\n\\n---',\n",
       " '### 2.2. 방법별 분류\\n1. **선점형(Preemptive)**: 현재 실행 중인 프로세스를 중단 가능\\n2. **비선점형(Non-preemptive)**: 현재 프로세스가 종료될 때까지 기다림\\n\\n---',\n",
       " '## 3. CPU 스케줄링 알고리즘\\n',\n",
       " '### 3.1. 선입선출 스케줄링 (FCFS)\\n- **유형**: 비선점형\\n- **개념**: 먼저 도착한 프로세스부터 순서대로 실행\\n- **특징**:\\n    - 간단하고 공정함\\n    - **호위 효과, 호송 효과(Convoy Effect)** 발생 가능\\n    - 대화식/시분할 시스템에 부적합\\n\\n---',\n",
       " '### 3.2. 최단 작업 우선 스케줄링 (SJF)\\n- **유형**: 비선점형\\n- **개념**: 실행 시간이 가장 짧은 작업을 먼저 실행\\n- **특징**:\\n    - 평균 대기 시간 최소화\\n    - 실행 시간 예측이 어려움\\n    - 긴 작업은 **기아(starvation)** 발생 가능\\n    - **에이징(Aging)** 기법으로 해결 가능\\n\\n---',\n",
       " '### 3.3. 최단 잔여 시간 우선 스케줄링 (SRT)\\n- **유형**: 선점형\\n- **개념**: 남은 실행 시간이 가장 짧은 프로세스에게 CPU를 할당\\n- **특징**:\\n    - 새로 도착한 프로세스가 더 짧으면 현재 작업 선점\\n    - 선점 오버헤드 존재\\n    - 기아 발생 가능\\n\\n---',\n",
       " '### 3.4. HRN 스케줄링 (Highest Response Ratio Next)\\n- **유형**: 비선점형\\n- **개념**: 응답 비율이 높은 프로세스를 먼저 실행\\n    - 응답 비율 = (대기시간 + 서비스시간) / 서비스시간\\n- **특징**:\\n    - SJF의 기아 문제 해결\\n    - 짧은 작업과 오래 기다린 작업에 유리\\n\\n---',\n",
       " '### 3.5. 우선순위 스케줄링 (Priority Scheduling)\\n- **유형**: 선점형/비선점형 모두 가능\\n- **개념**: 우선순위가 높은 프로세스에게 CPU를 할당\\n- **특징**:\\n    - 낮은 우선순위는 **기아** 발생 가능 → 에이징으로 해결\\n    - **정적/동적 우선순위 방식** 있음\\n        - 정적: 단순하지만 비적응적\\n        - 동적: 적응성 높지만 오버헤드 큼\\n\\n---',\n",
       " '### 3.6. 라운드로빈 스케줄링 (Round-Robin, RR)\\n- **유형**: 선점형\\n- **개념**: 각 프로세스에 일정한 시간 할당량(Time Quantum)을 주고 순환 실행\\n- **특징**:\\n    - 대화식/시분할 시스템에 적합\\n    - 시간 할당량이 적절해야 효율적\\n    - 문맥 교환 비용 발생\\n\\n---',\n",
       " '### 3.7. 다단계 큐 스케줄링 (Multi-Level Queue, MLQ)\\n- **유형**: 선점형/비선점형\\n- **개념**: 작업 특성에 따라 여러 큐로 나누고, 큐별로 다른 스케줄링 적용\\n- **특징**:\\n    - 큐 간 이동 불가\\n    - 고정된 큐 구조\\n    - 우선순위 큐 기반\\n\\n---',\n",
       " '### 3.8. 다단계 피드백 큐 스케줄링 (Multi-Level Feedback Queue, MFQ)\\n- **유형**: 선점형\\n- **개념**: 프로세스 특성 및 상태에 따라 큐 간 이동 가능\\n- **특징**:\\n    - **짧은 작업, I/O 중심 작업에 유리**\\n    - 동적 우선순위 및 에이징 기법 사용\\n    - 높은 적응성과 유연성\\n    - 시간 할당량은 큐마다 다름\\n    - **단점**: 구현 복잡, 시스템 부하 증가, 기아 발생 가능\\n\\n---',\n",
       " '## 📌 참고: 기아(Starvation)와 에이징(Aging)\\n- **기아(Starvation)**: 우선순위가 낮아 계속 CPU를 할당받지 못하는 상태\\n- **에이징(Aging)**: 오래 대기한 프로세스의 우선순위를 점진적으로 높여 기아 해결',\n",
       " '## 1. 병행 프로세스\\n- 개관\\n    - 병행 프로세스 : 동시에 실행되는 두 개 이상의 프로세스를 말함.\\n- 예시(Java)\\n    \\n    ```java\\n    public class Main {\\n        static int count = 0; \\n    \\n        public static void main(String[] args) throws InterruptedException {\\n            Thread t1 = new Thread(() -> {\\n                for (int i = 0; i < 10000; i++) {\\n                    count++;\\n                }\\n            });\\n    \\n            Thread t2 = new Thread(() -> {\\n                for (int i = 0; i < 10000; i++) {\\n                    count--;\\n                }\\n            });\\n    \\n            t1.start();\\n            t2.start();\\n    \\n            t1.join(); \\n            t2.join(); \\n    \\n            System.out.println(\"result: \" + count);\\n        }\\n    }\\n    \\n    ```\\n    \\n    - 의도한 대로라면 0이 나와야 하나, 그렇지 않음.\\n    - 이유 : 더하기 빼기 연산을 덮어쓰는 일 → 공유 변수를 덮어 쓰는 일이 발생하여 의도한 대로 동작하지 않음.(결정성이 없다, 또는 race condition)\\n    - 이처럼, 여러 프로세스가 병행되어 동작할 때 생기는 문제를 해결하는 방법을 학습할 예정',\n",
       " '## 2. 임계영역 문제\\n## 2. 임계영역 문제 - 소개 각 프로세스는 임계 영역이라는 코드 부분을 포함하고 있고, 이 안에서 다른 프로세스와 공유하는 변수를 변경하거나 테이블을 변경하거나 파일을 쓰거나 하는 등의 작업을 수행한다. 이 때 중요한 사실은 한 프로세스가 자신의 임계 영역에서 작업을 수행하는 동안에는 다른 프로세스가 이 영역에 들어갈 수 없다는 것이다. - 충족 조건 임계 영역 문제를 해결하기 위한 해결안은 **다음 세 가지 조건**을 충족해야 한다. 1. 상호 배제(Mutual exclusion) : 한 프로세스가 **자기 임계 영역에서 실행된다면 다른 프로세스들은 그 임계 영역에서 실행될 수 없다.** 2. 진행(Progress) : **임계 영역에서 실행 중인 프로세스가 없고 진입하려는 프로세스들이 있다면 이들 중에 진입시킬 프로세스를 선택하여 진입**시켜야 한다. 이 선택은 무기한으로 연기되어서는 안 된다. 3. 한정 대기(Bounded waiting) : 프로세스가 임계 영역에 진입하려는 요청을 한 뒤로 요청이 허용될 때까지 **다른 프로세스들이 임계 영역에 진입하도록 허용하는 횟수에는 제한이 있어야 한다.** - 프로세스 구조 ```c while (1){ // entry section : 임계 영역으로의 진입 허가를 요청하는 코드 // critical section // exit section',\n",
       " '## 2. 임계영역 문제\\n구조 ```c while (1){ // entry section : 임계 영역으로의 진입 허가를 요청하는 코드 // critical section // exit section : 임계 영역에서 작업을 마친 후 마무리 하는 코드 // remainder section : 프로그램의 나머지 코드 영역 } ``` - 임계영역 알고리즘 - 동기화 하드웨어 : 하드웨어에서 원자적 연산 명령어만 제공 → 복잡한 제어 없이 가능 - SW적 해결기법 : 하드웨어 도움 없이, 논리적인 절차를 통해 해결 - 고수준 동기화 도구 : 세마포어, 모니터',\n",
       " '## 3. 2개 프로세스 간 상호 배제\\n## 3. 2개 프로세스 간 상호 배제 - 1st algorithm : 전역 변수 turn 활용(0과 1로만 세팅) - turn의 의미 : 누가 임계 영역에 들어갈 차례인지 나타내는 변수 - turn이 0 → P0이 들어갈 차례, 1 → P1이 들어갈 차례 ```c // P0 구조 while (1){ while(turn!= 0); // critical section turn = 1; // exit section // remainder section } ``` ```c // P1 구조 while (1){ while(turn!= 1); // critical section turn = 0; // exit section // remainder section } ``` - 조건 검증 - 상호 배제 : 보장(turn 값에 따라 진입 여부 결정) - **진행 : 보장할 수 없음(turn 값이 0인데, P0이 잔류 구역 작업중, P1만 진입 희망할 경우)** - 한정 대기 : 보장(P0이 실행중이고, P1이 대기중일 때, P0이 끝나면 P1 진입 가능) - 문제점 : turn 변수만으로는 해당 프로세스가 critical section에 있는 지, remainder section에 있는 지 구분 안됨. - 2nd algorithm : flag 배열 활용, 각 배열 원소의 값은 0과 1로만 세팅 - flag 배열의 의미 : 각 프로세',\n",
       " '## 3. 2개 프로세스 간 상호 배제\\n배열 활용, 각 배열 원소의 값은 0과 1로만 세팅 - flag 배열의 의미 : 각 프로세스가 임계영역에 들어가고 싶은지/아닌지를 나타내는 배열 - flag[0] 의 의미 : P0이 임계구역에 진입하기를 희망함. P0이 1이면 임계구역에 진입하기를 희망 ```c // P0의 구조 while (1){ flag[0] = 1; while(flag[1]); // critical section flag[0] = 0; // remainder section } ``` ```c // P1의 구조 while (1){ flag[1] = 1; while(flag[0]); // critical section flag[1] = 0; // remainder section } ``` - 조건 검증 - 상호 배제 : 보장(상대의 flag 값이 0이면 혼자 진입 가능) - **진행 : 보장할 수 없음(동시에 flag 값이 1이면, 무한 루프)** - 3rd algorithm : flag 배열 활용, 각 배열 원소의 값은 0과 1로만 세팅 ```c // P0의 구조 while (1){ while(flag[1]); flag[0] = 1; // critical section flag[0] = 0; // remainder section } ``` - 조건 검증 - **상호 배제 : 보장할 수 없음(동시에 진입)** ```c',\n",
       " '## 3. 2개 프로세스 간 상호 배제\\nremainder section } ``` - 조건 검증 - **상호 배제 : 보장할 수 없음(동시에 진입)** ```c // P1의 구조 while (1){ while(flag[0]); flag[1] = 1; // critical section flag[1] = 0; // remainder section } ``` - 4th algorithm(Peterson algorithm) : flag 배열, turn 변수 활용 ```c // P0의 구조 while (1){ flag[0] = 1; turn = 1; while(flag[1] && turn == 1); // critical section flag[0] = 0; // remainder section } ``` ```c // P1의 구조 while (1){ flag[1] = 1; turn = 0; while(flag[0] && turn == 0); // critical section flag[1] = 0; // remainder section } ``` - 검증 - 상호 배제 : 보장할 수 있음(동시에 진입할 경우, turn이 0 또는 1 중에 하나로 결정되기 때문) - 진행 : 보장할 수 있음(P0이 요청 + P1이 임계 영역 수행중 → P1이 끝나고 flag 값 변경 → P0 진입 가능) - 한계 대기 : 보장할 수 있음(P0 요청 + P1 임계 영역 수행 중 → P1이 임계 영역 끝나면 바로 P0 진입 가능) - Peterson algorithm의 문제점 - 하드웨어 수준의 보장 어려움',\n",
       " '## 3. 2개 프로세스 간 상호 배제\\n중 → P1이 임계 영역 끝나면 바로 P0 진입 가능) - Peterson algorithm의 문제점 - 하드웨어 수준의 보장 어려움 : flag, turn을 동시에 읽기 쓰기를 전제하지만, 이는 어려움 - 현대 CPU에 부적합 : 현대 CPU는 멀티 코어이지만, 이는 싱글 코어를 전제로 함 - 확장 부족 : 2개가 아닌 n개의 프로세스에 대해서는...?',\n",
       " '## 4. N개 프로세스 간 상호 배제\\n## 4. N개 프로세스 간 상호 배제 - Lamport’s Bakery Algorithm(중요) - 변수 설명 : choosing 배열 : 번호표를 아직 뽑는중인지 확인하는 배열 → 값이 0이면 아직 뽑지 않았거나, 뽑았거나. 값이 1이면 번호표를 뽑는 중 - 변수 설명 : number 배열 : 번호표의 값. 이 값이 작을수록 임계영역 진입 우선순위가 높음 - 연산 설명 : (number[j], j) < (number[i], i) → number[j]와 number[i] 비교. 두 값이 같다면 j와 i 비교 ```c //프로세스 i의 구조, n개의 프로세스가 있다 가정 // choosing[], number[]은 초기 값이 모두 0 while(1) {... choosing[i] = 1; number[i] = max(number[0],..... number[n-1]) + 1 ; choosing[i] = 0; for(j=0; j<n; j++) { while(choosing[j]); while(number[j] && (number[j], j) < (number[i], i)); } // Critical Section... number[i] = 0;... //',\n",
       " '## 4. N개 프로세스 간 상호 배제\\n], j) < (number[i], i)); } // Critical Section... number[i] = 0;... // Remainder Section } ``` - 알고리즘 수행 순서 1. 진입한 프로세스는 자신의 choosing을 1로 세팅(이제 번호표 뽑습니다!) 2. 현재까지의 번호표 값보다 더 큰 값을 받기로 함(마지막에 들어와서) 3. 번호표를 뽑은 후, choosing 값을 0으로 세팅(번호표 뽑았습니다!) 4. 0번부터 n-1번까지 프로세스 확인 5. 혹시 번호표 안 뽑은사람이 있는가 확인 6. 모두 번호표 뽑았으면, 번호표 값 & 프로세스 번호 보면서 확인 7. 만약 번호표 값이 0이다 → ~~번호표를 안뽑았다(이미 걸러져서 아님)~~, 이미 임계영역 쓴 사람이다 8. 자기 값이 제일 작다고 판단(for 루프 모두 확인 결과) → 진입 9. 다 쓰고 number 0으로 하여 종료 - 보장 부분![image.png](attachment:7f711e14-1736-4984-af19-882681fa7c6d:image.png)',\n",
       " '## 5. 챌린지\\n- race condition\\n    - 다음 프로세스 A, B는 공유 변수 count를 공유하며 병행 실행되고 있다.\\n    - 공유 변수 count의 초깃값은 0이며, a와 b는 각 프로세스에서만 사용되는 변수이다. 아래는 프로세스 별 의사코드이다.\\n    \\n    ```c\\n    // Process A\\n    // a는 지역 변수\\n    for(4회 반복){\\n    a = count;\\n    a = a * 3;\\n    count = a;\\n    }\\n    ```\\n    \\n    - count가 가질 수 있는 최댓값, 최솟값은?\\n    - 최솟값 : 0\\n    - 최댓값 : 324(4 * 3 * 3 * 3 * 3)\\n    \\n    ```c\\n    // Process B\\n    // b는 지역 변수\\n    for(4회 반복){\\n    b = count;\\n    b = b + 1;\\n    count = b;\\n    }\\n    ```']"
      ]
     },
     "execution_count": 6,
     "metadata": {},
     "output_type": "execute_result"
    }
   ],
   "source": [
    "# 각 단원에 대해 청크 분할\n",
    "chunked_subjects = smart_chunk_text(subjects, chunk_size=300, overlap=30)\n",
    "chunked_subjects"
   ]
  },
  {
   "cell_type": "code",
   "execution_count": 7,
   "id": "d9730001",
   "metadata": {},
   "outputs": [
    {
     "name": "stderr",
     "output_type": "stream",
     "text": [
      "huggingface/tokenizers: The current process just got forked, after parallelism has already been used. Disabling parallelism to avoid deadlocks...\n",
      "To disable this warning, you can either:\n",
      "\t- Avoid using `tokenizers` before the fork if possible\n",
      "\t- Explicitly set the environment variable TOKENIZERS_PARALLELISM=(true | false)\n"
     ]
    },
    {
     "name": "stdout",
     "output_type": "stream",
     "text": [
      "57개의 청크가 chroma db에 등록되었습니다.\n"
     ]
    }
   ],
   "source": [
    "# 분할된 청크를 chroma db에 embedding function과 함께 등록\n",
    "import chromadb\n",
    "from chromadb.utils import embedding_functions\n",
    "\n",
    "chroma_client = chromadb.Client()\n",
    "sentence_transformer_ef = embedding_functions.SentenceTransformerEmbeddingFunction(\n",
    "    model_name=\"intfloat/multilingual-e5-large\"\n",
    ")\n",
    "\n",
    "collection = chroma_client.create_collection(\n",
    "    name=\"pdf_chunks_collection\", embedding_function=sentence_transformer_ef)\n",
    "\n",
    "chunk_ids = [f\"chunk_{i}\" for i in range(len(chunked_subjects))]\n",
    "collection.add(\n",
    "    documents=chunked_subjects,\n",
    "    ids=chunk_ids\n",
    ")\n",
    "print(f\"{len(chunked_subjects)}개의 청크가 chroma db에 등록되었습니다.\")"
   ]
  },
  {
   "cell_type": "code",
   "execution_count": 9,
   "id": "c8c3b8e6",
   "metadata": {},
   "outputs": [
    {
     "name": "stdout",
     "output_type": "stream",
     "text": [
      "Top 1 결과:\n",
      "### 1.3. 운영체제의 기능 분류\n",
      "- 감시 프로그램 : 작업 관리, 자원 할당과 회수 등 시스템 전반을 감독하고 제어함\n",
      "- 작업 제어 프로그램 : 작업의 순서를 정하고 작업 흐름을 통제함\n",
      "- 데이터 관리 프로그램 : 파일, 데이터의 표준적 관리 및 처리를 담당함\n",
      "\n",
      "- 참고 : 운영체제의 역할인 것, 역할이 아닌 것\n",
      "- 역할인 것\n",
      "    - 사용자 인터페이스 제공\n",
      "    - 주변 장치 관리\n",
      "    - 자원 분배와 효율적 관리\n",
      "    - 신뢰성 향상 및 오류 처리\n",
      "- 역할이 아닌 것\n",
      "    - 원시 프로그램을 기계어로 번역하는 기능 (컴파일러의 역할)\n",
      "    - 목적 프로그램의 생성 및 연결(링커의 역할)\n",
      "    - 데이터 압축 및 복원(유틸리티 프로그램 역할)\n",
      "거리:0.3183290958404541\n",
      "---\n",
      "Top 2 결과:\n",
      "### 1.2. 운영체제의 기능\n",
      "**자원 관리**와 **시스템 관리**로 구분\n",
      "\n",
      "- **자원 관리(중요)**: **메모리 관리, 프로세스 관리, 주변 장치 관리, 파일(데이터) 관리**\n",
      "- **시스템 관리**: 시스템 보호(사용자 권한 관리), 네트워킹(통신), 명령 인터프리터 제공\n",
      "거리:0.3747614622116089\n",
      "---\n",
      "Top 3 결과:\n",
      "## 2. 프로세스 제어 블록(PCB)\n",
      "- *PCB(Process Control Block)**은 운영체제가 프로세스를 관리하기 위한 정보가 담긴 자료구조로, 다음과 같은 내용을 포함함.\n",
      "거리:0.3794053792953491\n",
      "---\n"
     ]
    }
   ],
   "source": [
    "# 검색 쿼리 예시 및 RAG에 활용할 수 있는 검색 코드\n",
    "query = \"운영 프로그램의 기능 분류 중 작업 제어 프로그램이란?\"\n",
    "results = collection.query(\n",
    "    query_texts=[query],\n",
    "    n_results=3\n",
    ")\n",
    "for i, result in enumerate(zip(results['documents'][0], results['distances'][0])):\n",
    "  print(f\"Top {i + 1} 결과:\\n{result[0]}\\n거리:{result[1]}\\n---\")"
   ]
  },
  {
   "cell_type": "code",
   "execution_count": null,
   "id": "5e4fe16b",
   "metadata": {},
   "outputs": [],
   "source": []
  }
 ],
 "metadata": {
  "kernelspec": {
   "display_name": "pdfq-back-CzKW63L7-py3.12",
   "language": "python",
   "name": "python3"
  },
  "language_info": {
   "codemirror_mode": {
    "name": "ipython",
    "version": 3
   },
   "file_extension": ".py",
   "mimetype": "text/x-python",
   "name": "python",
   "nbconvert_exporter": "python",
   "pygments_lexer": "ipython3",
   "version": "3.12.9"
  }
 },
 "nbformat": 4,
 "nbformat_minor": 5
}
